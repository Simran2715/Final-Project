{
 "cells": [
  {
   "cell_type": "code",
   "execution_count": 8,
   "id": "7c80bbcb",
   "metadata": {},
   "outputs": [],
   "source": [
    "import pandas as pd\n",
    "import numpy as np\n",
    "import matplotlib.pyplot as plt\n",
    "import seaborn as sns\n",
    "from sklearn.preprocessing import StandardScaler,LabelEncoder\n",
    "from sklearn.model_selection import train_test_split\n",
    "from sklearn.metrics import mean_squared_error, r2_score, accuracy_score, f1_score, roc_curve,auc, roc_auc_score\n",
    "from sklearn.ensemble import RandomForestRegressor, GradientBoostingRegressor\n",
    "from sklearn.linear_model import LinearRegression, Lasso, Ridge, ElasticNet\n",
    "from sklearn.tree import DecisionTreeRegressor\n",
    "from sklearn.svm import SVR\n",
    "from sklearn.pipeline import Pipeline\n",
    "from sklearn.decomposition import PCA"
   ]
  },
  {
   "cell_type": "code",
   "execution_count": 9,
   "id": "03e3e04b",
   "metadata": {},
   "outputs": [
    {
     "data": {
      "text/html": [
       "<div>\n",
       "<style scoped>\n",
       "    .dataframe tbody tr th:only-of-type {\n",
       "        vertical-align: middle;\n",
       "    }\n",
       "\n",
       "    .dataframe tbody tr th {\n",
       "        vertical-align: top;\n",
       "    }\n",
       "\n",
       "    .dataframe thead th {\n",
       "        text-align: right;\n",
       "    }\n",
       "</style>\n",
       "<table border=\"1\" class=\"dataframe\">\n",
       "  <thead>\n",
       "    <tr style=\"text-align: right;\">\n",
       "      <th></th>\n",
       "      <th>Student_ID</th>\n",
       "      <th>Time_Spent_On_App</th>\n",
       "      <th>Past_Grades</th>\n",
       "      <th>attendance_rate</th>\n",
       "      <th>time_spent_on_quiz</th>\n",
       "      <th>question_attemted</th>\n",
       "      <th>pass_fail</th>\n",
       "      <th>topic_difficulty</th>\n",
       "      <th>future_score</th>\n",
       "    </tr>\n",
       "  </thead>\n",
       "  <tbody>\n",
       "    <tr>\n",
       "      <th>0</th>\n",
       "      <td>1</td>\n",
       "      <td>0.087239</td>\n",
       "      <td>70</td>\n",
       "      <td>89</td>\n",
       "      <td>3.872776</td>\n",
       "      <td>22</td>\n",
       "      <td>Pass</td>\n",
       "      <td>Low</td>\n",
       "      <td>90.898301</td>\n",
       "    </tr>\n",
       "    <tr>\n",
       "      <th>1</th>\n",
       "      <td>2</td>\n",
       "      <td>7.255753</td>\n",
       "      <td>15</td>\n",
       "      <td>61</td>\n",
       "      <td>0.133803</td>\n",
       "      <td>41</td>\n",
       "      <td>Fail</td>\n",
       "      <td>High</td>\n",
       "      <td>64.262480</td>\n",
       "    </tr>\n",
       "    <tr>\n",
       "      <th>2</th>\n",
       "      <td>3</td>\n",
       "      <td>6.781640</td>\n",
       "      <td>80</td>\n",
       "      <td>64</td>\n",
       "      <td>3.359422</td>\n",
       "      <td>41</td>\n",
       "      <td>Pass</td>\n",
       "      <td>Low</td>\n",
       "      <td>96.324858</td>\n",
       "    </tr>\n",
       "    <tr>\n",
       "      <th>3</th>\n",
       "      <td>4</td>\n",
       "      <td>3.503155</td>\n",
       "      <td>94</td>\n",
       "      <td>65</td>\n",
       "      <td>4.227397</td>\n",
       "      <td>12</td>\n",
       "      <td>Pass</td>\n",
       "      <td>Low</td>\n",
       "      <td>100.398639</td>\n",
       "    </tr>\n",
       "    <tr>\n",
       "      <th>4</th>\n",
       "      <td>5</td>\n",
       "      <td>1.282587</td>\n",
       "      <td>56</td>\n",
       "      <td>80</td>\n",
       "      <td>3.855772</td>\n",
       "      <td>28</td>\n",
       "      <td>Pass</td>\n",
       "      <td>Medium</td>\n",
       "      <td>83.411253</td>\n",
       "    </tr>\n",
       "    <tr>\n",
       "      <th>...</th>\n",
       "      <td>...</td>\n",
       "      <td>...</td>\n",
       "      <td>...</td>\n",
       "      <td>...</td>\n",
       "      <td>...</td>\n",
       "      <td>...</td>\n",
       "      <td>...</td>\n",
       "      <td>...</td>\n",
       "      <td>...</td>\n",
       "    </tr>\n",
       "    <tr>\n",
       "      <th>4995</th>\n",
       "      <td>4996</td>\n",
       "      <td>2.957194</td>\n",
       "      <td>31</td>\n",
       "      <td>79</td>\n",
       "      <td>2.225866</td>\n",
       "      <td>23</td>\n",
       "      <td>Fail</td>\n",
       "      <td>High</td>\n",
       "      <td>76.329703</td>\n",
       "    </tr>\n",
       "    <tr>\n",
       "      <th>4996</th>\n",
       "      <td>4997</td>\n",
       "      <td>1.663244</td>\n",
       "      <td>22</td>\n",
       "      <td>75</td>\n",
       "      <td>0.200699</td>\n",
       "      <td>28</td>\n",
       "      <td>Fail</td>\n",
       "      <td>High</td>\n",
       "      <td>75.110318</td>\n",
       "    </tr>\n",
       "    <tr>\n",
       "      <th>4997</th>\n",
       "      <td>4998</td>\n",
       "      <td>3.457798</td>\n",
       "      <td>30</td>\n",
       "      <td>62</td>\n",
       "      <td>0.366396</td>\n",
       "      <td>5</td>\n",
       "      <td>Fail</td>\n",
       "      <td>High</td>\n",
       "      <td>71.941076</td>\n",
       "    </tr>\n",
       "    <tr>\n",
       "      <th>4998</th>\n",
       "      <td>4999</td>\n",
       "      <td>1.272101</td>\n",
       "      <td>42</td>\n",
       "      <td>80</td>\n",
       "      <td>1.994229</td>\n",
       "      <td>47</td>\n",
       "      <td>Pass</td>\n",
       "      <td>Medium</td>\n",
       "      <td>82.235527</td>\n",
       "    </tr>\n",
       "    <tr>\n",
       "      <th>4999</th>\n",
       "      <td>5000</td>\n",
       "      <td>9.184632</td>\n",
       "      <td>87</td>\n",
       "      <td>73</td>\n",
       "      <td>1.812707</td>\n",
       "      <td>19</td>\n",
       "      <td>Pass</td>\n",
       "      <td>Low</td>\n",
       "      <td>102.844933</td>\n",
       "    </tr>\n",
       "  </tbody>\n",
       "</table>\n",
       "<p>5000 rows × 9 columns</p>\n",
       "</div>"
      ],
      "text/plain": [
       "      Student_ID  Time_Spent_On_App  Past_Grades  attendance_rate  \\\n",
       "0              1           0.087239           70               89   \n",
       "1              2           7.255753           15               61   \n",
       "2              3           6.781640           80               64   \n",
       "3              4           3.503155           94               65   \n",
       "4              5           1.282587           56               80   \n",
       "...          ...                ...          ...              ...   \n",
       "4995        4996           2.957194           31               79   \n",
       "4996        4997           1.663244           22               75   \n",
       "4997        4998           3.457798           30               62   \n",
       "4998        4999           1.272101           42               80   \n",
       "4999        5000           9.184632           87               73   \n",
       "\n",
       "      time_spent_on_quiz  question_attemted pass_fail topic_difficulty  \\\n",
       "0               3.872776                 22      Pass              Low   \n",
       "1               0.133803                 41      Fail             High   \n",
       "2               3.359422                 41      Pass              Low   \n",
       "3               4.227397                 12      Pass              Low   \n",
       "4               3.855772                 28      Pass           Medium   \n",
       "...                  ...                ...       ...              ...   \n",
       "4995            2.225866                 23      Fail             High   \n",
       "4996            0.200699                 28      Fail             High   \n",
       "4997            0.366396                  5      Fail             High   \n",
       "4998            1.994229                 47      Pass           Medium   \n",
       "4999            1.812707                 19      Pass              Low   \n",
       "\n",
       "      future_score  \n",
       "0        90.898301  \n",
       "1        64.262480  \n",
       "2        96.324858  \n",
       "3       100.398639  \n",
       "4        83.411253  \n",
       "...            ...  \n",
       "4995     76.329703  \n",
       "4996     75.110318  \n",
       "4997     71.941076  \n",
       "4998     82.235527  \n",
       "4999    102.844933  \n",
       "\n",
       "[5000 rows x 9 columns]"
      ]
     },
     "execution_count": 9,
     "metadata": {},
     "output_type": "execute_result"
    }
   ],
   "source": [
    "student_performance=pd.read_csv('Student_Performance.csv')\n",
    "\n",
    "student_performance"
   ]
  },
  {
   "cell_type": "code",
   "execution_count": 10,
   "id": "53d5c521",
   "metadata": {},
   "outputs": [],
   "source": [
    "label_encode={}\n",
    "categorical_col=['pass_fail','topic_difficulty']\n",
    "\n",
    "for col in categorical_col:\n",
    "    label=LabelEncoder()\n",
    "    student_performance[col]=label.fit_transform(student_performance[col])\n",
    "    label_encode[col]=label"
   ]
  },
  {
   "cell_type": "code",
   "execution_count": 11,
   "id": "f68b8898",
   "metadata": {},
   "outputs": [],
   "source": [
    "X=student_performance.drop(columns=['future_score'])\n",
    "y=student_performance['future_score']"
   ]
  },
  {
   "cell_type": "code",
   "execution_count": 12,
   "id": "cc955006",
   "metadata": {},
   "outputs": [],
   "source": [
    "X_train, X_test, y_train, y_test = train_test_split(X, y, test_size=0.2, random_state=42)"
   ]
  },
  {
   "cell_type": "code",
   "execution_count": 13,
   "id": "8adb7517",
   "metadata": {},
   "outputs": [
    {
     "name": "stdout",
     "output_type": "stream",
     "text": [
      "\n",
      " Model training complete\n",
      "Score : 0.9468181559480615\n",
      "Accuracy: 94.69%\n",
      "R2 score : 0.8260785429715327\n",
      "RMSE: 5.31\n",
      "MSE :  28.19\n"
     ]
    }
   ],
   "source": [
    "rf=RandomForestRegressor(random_state=42)\n",
    "rf.fit(X_train, y_train)\n",
    "print('\\n Model training complete')\n",
    "\n",
    "print(f'Score : {rf.score(X, y)}')\n",
    "pred_y = rf.predict(X_test)\n",
    "\n",
    "mse = mean_squared_error(y_test, pred_y)\n",
    "rmse = np.sqrt(mse)\n",
    "accuracy = 100 - rmse\n",
    "R2=r2_score(y_test, pred_y)\n",
    "\n",
    "print(f\"Accuracy: {accuracy:.2f}%\")\n",
    "print('R2 score :',R2)\n",
    "print(f\"RMSE: {rmse:.2f}\")\n",
    "print(f'MSE : {mse: .2f}')"
   ]
  },
  {
   "cell_type": "code",
   "execution_count": 14,
   "id": "8767fa9e",
   "metadata": {},
   "outputs": [
    {
     "name": "stdout",
     "output_type": "stream",
     "text": [
      "\n",
      " Model training complete\n",
      "Score : 0.9325308455052961\n",
      "Accuracy: 92.58%\n",
      "R2 score : 0.6600092480394646\n",
      "RMSE: 7.42\n",
      "MSE :  55.11\n"
     ]
    }
   ],
   "source": [
    "tree=DecisionTreeRegressor(random_state=42)\n",
    "tree.fit(X_train, y_train)\n",
    "print('\\n Model training complete')\n",
    "\n",
    "print(f'Score : {tree.score(X, y)}')\n",
    "pred_y = tree.predict(X_test)\n",
    "\n",
    "mse = mean_squared_error(y_test, pred_y)\n",
    "rmse = np.sqrt(mse)\n",
    "accuracy = 100 - rmse\n",
    "R2=r2_score(y_test, pred_y)\n",
    "\n",
    "print(f\"Accuracy: {accuracy:.2f}%\")\n",
    "print('R2 score :',R2)\n",
    "print(f\"RMSE: {rmse:.2f}\")\n",
    "print(f'MSE : {mse: .2f}')"
   ]
  },
  {
   "cell_type": "code",
   "execution_count": 15,
   "id": "877d5b1a",
   "metadata": {},
   "outputs": [
    {
     "name": "stdout",
     "output_type": "stream",
     "text": [
      "\n",
      " Model training complete\n",
      "Score : 0.8487567905878973\n",
      "Accuracy: 94.98%\n",
      "R2 score : 0.8444493928459137\n",
      "RMSE: 5.02\n",
      "MSE :  25.21\n"
     ]
    }
   ],
   "source": [
    "lr=LinearRegression()\n",
    "lr.fit(X_train, y_train)\n",
    "print('\\n Model training complete')\n",
    "\n",
    "print(f'Score : {lr.score(X, y)}')\n",
    "pred_y = lr.predict(X_test)\n",
    "\n",
    "mse = mean_squared_error(y_test, pred_y)\n",
    "rmse = np.sqrt(mse)\n",
    "accuracy = 100 - rmse\n",
    "R2=r2_score(y_test, pred_y)\n",
    "\n",
    "print(f\"Accuracy: {accuracy:.2f}%\")\n",
    "print('R2 score :',R2)\n",
    "print(f\"RMSE: {rmse:.2f}\")\n",
    "print(f'MSE : {mse: .2f}')"
   ]
  },
  {
   "cell_type": "code",
   "execution_count": 16,
   "id": "fcaf2800",
   "metadata": {},
   "outputs": [
    {
     "name": "stdout",
     "output_type": "stream",
     "text": [
      "\n",
      " Model training complete\n",
      "Score : 0.8616435923242259\n",
      "Accuracy: 94.91%\n",
      "R2 score : 0.8398992699231864\n",
      "RMSE: 5.09\n",
      "MSE :  25.95\n"
     ]
    }
   ],
   "source": [
    "gbr=GradientBoostingRegressor(random_state=42)\n",
    "gbr.fit(X_train, y_train)\n",
    "print('\\n Model training complete')\n",
    "\n",
    "print(f'Score : {gbr.score(X, y)}')\n",
    "pred_y = gbr.predict(X_test)\n",
    "\n",
    "mse = mean_squared_error(y_test, pred_y)\n",
    "rmse = np.sqrt(mse)\n",
    "accuracy = 100 - rmse\n",
    "R2=r2_score(y_test, pred_y)\n",
    "\n",
    "print(f\"Accuracy: {accuracy:.2f}%\")\n",
    "print('R2 score :',R2)\n",
    "print(f\"RMSE: {rmse:.2f}\")\n",
    "print(f'MSE : {mse: .2f}')"
   ]
  },
  {
   "cell_type": "code",
   "execution_count": 17,
   "id": "1456d1ab",
   "metadata": {},
   "outputs": [
    {
     "name": "stdout",
     "output_type": "stream",
     "text": [
      "\n",
      " Model training complete\n",
      "Score : 0.8483822526592744\n",
      "Accuracy: 94.98%\n",
      "R2 score : 0.8445504305903123\n",
      "RMSE: 5.02\n",
      "MSE :  25.20\n"
     ]
    }
   ],
   "source": [
    "lasso=Lasso(random_state=42)\n",
    "lasso.fit(X_train, y_train)\n",
    "print('\\n Model training complete')\n",
    "\n",
    "print(f'Score : {lasso.score(X, y)}')\n",
    "pred_y = lasso.predict(X_test)\n",
    "\n",
    "mse = mean_squared_error(y_test, pred_y)\n",
    "rmse = np.sqrt(mse)\n",
    "accuracy = 100 - rmse\n",
    "R2=r2_score(y_test, pred_y)\n",
    "\n",
    "print(f\"Accuracy: {accuracy:.2f}%\")\n",
    "print('R2 score :',R2)\n",
    "print(f\"RMSE: {rmse:.2f}\")\n",
    "print(f'MSE : {mse: .2f}')"
   ]
  },
  {
   "cell_type": "code",
   "execution_count": 18,
   "id": "435fb368",
   "metadata": {},
   "outputs": [
    {
     "name": "stdout",
     "output_type": "stream",
     "text": [
      "\n",
      " Model training complete\n",
      "Score : 0.848757331032814\n",
      "Accuracy: 94.98%\n",
      "R2 score : 0.844452132041916\n",
      "RMSE: 5.02\n",
      "MSE :  25.21\n"
     ]
    }
   ],
   "source": [
    "ridge=Ridge(random_state=42)\n",
    "ridge.fit(X_train, y_train)\n",
    "print('\\n Model training complete')\n",
    "\n",
    "print(f'Score : {ridge.score(X, y)}')\n",
    "pred_y = ridge.predict(X_test)\n",
    "\n",
    "mse = mean_squared_error(y_test, pred_y)\n",
    "rmse = np.sqrt(mse)\n",
    "accuracy = 100 - rmse\n",
    "R2=r2_score(y_test, pred_y)\n",
    "\n",
    "print(f\"Accuracy: {accuracy:.2f}%\")\n",
    "print('R2 score :',R2)\n",
    "print(f\"RMSE: {rmse:.2f}\")\n",
    "print(f'MSE : {mse: .2f}')"
   ]
  },
  {
   "cell_type": "code",
   "execution_count": 19,
   "id": "60373de3",
   "metadata": {},
   "outputs": [
    {
     "name": "stdout",
     "output_type": "stream",
     "text": [
      "\n",
      " Model training complete\n",
      "Score : 0.8014996342577796\n",
      "Accuracy: 87.27%\n",
      "R2 score : -3.77342860680141e-05\n",
      "RMSE: 12.73\n",
      "MSE :  162.11\n"
     ]
    }
   ],
   "source": [
    "svr=SVR(kernel='rbf', C=100, gamma=0.1, epsilon=0.1)\n",
    "svr.fit(X_train, y_train)\n",
    "print('\\n Model training complete')\n",
    "\n",
    "print(f'Score : {svr.score(X, y)}')\n",
    "pred_y = svr.predict(X_test)\n",
    "\n",
    "mse = mean_squared_error(y_test, pred_y)\n",
    "rmse = np.sqrt(mse)\n",
    "accuracy = 100 - rmse\n",
    "R2=r2_score(y_test, pred_y)\n",
    "\n",
    "print(f\"Accuracy: {accuracy:.2f}%\")\n",
    "print('R2 score :',R2)\n",
    "print(f\"RMSE: {rmse:.2f}\")\n",
    "print(f'MSE : {mse: .2f}')"
   ]
  },
  {
   "cell_type": "code",
   "execution_count": 20,
   "id": "b5c93ce7",
   "metadata": {},
   "outputs": [
    {
     "name": "stdout",
     "output_type": "stream",
     "text": [
      "Score : 0.8484543164475251\n",
      "Accuracy: 94.98%\n",
      "R2 score : 0.8446827668903187\n",
      "RMSE: 5.02\n",
      "MSE :  25.18\n"
     ]
    }
   ],
   "source": [
    "pca = PCA(n_components=5) \n",
    "regression = LinearRegression()\n",
    "pipeline = Pipeline([('pca', pca), ('regression', regression)])\n",
    "\n",
    "pipeline.fit(X_train, y_train)\n",
    "print(f'Score : {pipeline.score(X, y)}')\n",
    "y_pred = pipeline.predict(X_test)\n",
    "\n",
    "mse = mean_squared_error(y_test, y_pred)\n",
    "rmse = np.sqrt(mse)\n",
    "accuracy = 100 - rmse\n",
    "R2=r2_score(y_test, y_pred)\n",
    "\n",
    "print(f\"Accuracy: {accuracy:.2f}%\")\n",
    "print('R2 score :',R2)\n",
    "print(f\"RMSE: {rmse:.2f}\")\n",
    "print(f'MSE : {mse: .2f}')"
   ]
  },
  {
   "cell_type": "code",
   "execution_count": 21,
   "id": "3d7ebcb1",
   "metadata": {},
   "outputs": [
    {
     "name": "stdout",
     "output_type": "stream",
     "text": [
      "\n",
      " Model training complete\n",
      "Score : 0.8484217999611675\n",
      "Accuracy: 94.98%\n",
      "R2 score : 0.8446057867987307\n",
      "RMSE: 5.02\n",
      "MSE :  25.19\n"
     ]
    }
   ],
   "source": [
    "elc=ElasticNet(random_state=42)\n",
    "elc.fit(X_train, y_train)\n",
    "print('\\n Model training complete')\n",
    "\n",
    "print(f'Score : {elc.score(X, y)}')\n",
    "pred_y = elc.predict(X_test)\n",
    "\n",
    "mse = mean_squared_error(y_test, pred_y)\n",
    "rmse = np.sqrt(mse)\n",
    "accuracy = 100 - rmse\n",
    "R2=r2_score(y_test, pred_y)\n",
    "\n",
    "print(f\"Accuracy: {accuracy:.2f}%\")\n",
    "print('R2 score :',R2)\n",
    "print(f\"RMSE: {rmse:.2f}\")\n",
    "print(f'MSE : {mse: .2f}')"
   ]
  },
  {
   "cell_type": "code",
   "execution_count": 22,
   "id": "896c6656",
   "metadata": {},
   "outputs": [],
   "source": [
    "import pickle\n",
    "\n",
    "with open ('model_selected.pkl','wb') as file:\n",
    "    pickle.dump(rf, file)\n",
    "\n",
    "with open('encoder.pkl','wb') as file:\n",
    "    pickle.dump(label_encode, file)"
   ]
  },
  {
   "cell_type": "code",
   "execution_count": 23,
   "id": "fd07885a",
   "metadata": {},
   "outputs": [
    {
     "name": "stderr",
     "output_type": "stream",
     "text": [
      "c:\\Users\\simra\\OneDrive\\Documents\\Final_Project\\.venv\\Lib\\site-packages\\tqdm\\auto.py:21: TqdmWarning: IProgress not found. Please update jupyter and ipywidgets. See https://ipywidgets.readthedocs.io/en/stable/user_install.html\n",
      "  from .autonotebook import tqdm as notebook_tqdm\n"
     ]
    },
    {
     "data": {
      "image/png": "[encoded data removed]",
      "text/plain": [
       "<Figure size 800x550 with 3 Axes>"
      ]
     },
     "metadata": {},
     "output_type": "display_data"
    }
   ],
   "source": [
    "import shap \n",
    "\n",
    "model= pickle.load(open('model_selected.pkl', 'rb'))\n",
    "\n",
    "explainer = shap.Explainer(model)\n",
    "shap_values = explainer(X_test)\n",
    "\n",
    "# Waterfall plot for the first observation\n",
    "shap.waterfall_plot(shap_values[0])"
   ]
  },
  {
   "cell_type": "code",
   "execution_count": 24,
   "id": "d536545a",
   "metadata": {},
   "outputs": [],
   "source": [
    "import lime\n",
    "import lime.lime_tabular\n",
    "\n",
    "explainer = lime.lime_tabular.LimeTabularExplainer(X_train.values, feature_names=X_train.columns.values.tolist(),\n",
    "                                                  class_names=['MEDV'], verbose=True, mode='regression')"
   ]
  },
  {
   "cell_type": "code",
   "execution_count": 25,
   "id": "85bd1148",
   "metadata": {},
   "outputs": [
    {
     "name": "stderr",
     "output_type": "stream",
     "text": [
      "c:\\Users\\simra\\OneDrive\\Documents\\Final_Project\\.venv\\Lib\\site-packages\\sklearn\\utils\\validation.py:2739: UserWarning: X does not have valid feature names, but RandomForestRegressor was fitted with feature names\n",
      "  warnings.warn(\n"
     ]
    },
    {
     "name": "stdout",
     "output_type": "stream",
     "text": [
      "Intercept 77.51087685592009\n",
      "Prediction_local [85.71891225]\n",
      "Right: 88.54858404289266\n"
     ]
    }
   ],
   "source": [
    "j = 5\n",
    "exp = explainer.explain_instance(X_test.values[j], rf.predict, num_features=6)"
   ]
  }
 ],
 "metadata": {
  "kernelspec": {
   "display_name": ".venv",
   "language": "python",
   "name": "python3"
  },
  "language_info": {
   "codemirror_mode": {
    "name": "ipython",
    "version": 3
   },
   "file_extension": ".py",
   "mimetype": "text/x-python",
   "name": "python",
   "nbconvert_exporter": "python",
   "pygments_lexer": "ipython3",
   "version": "3.12.9"
  }
 },
 "nbformat": 4,
 "nbformat_minor": 5
}
