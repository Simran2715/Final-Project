{
 "cells": [
  {
   "cell_type": "code",
   "execution_count": 5,
   "id": "6f1e26b2",
   "metadata": {},
   "outputs": [],
   "source": [
    "import pandas as pd\n",
    "import numpy as np"
   ]
  },
  {
   "cell_type": "code",
   "execution_count": 1,
   "id": "6d79073c",
   "metadata": {},
   "outputs": [
    {
     "name": "stdout",
     "output_type": "stream",
     "text": [
      "Overwriting student_dashboard.py\n"
     ]
    }
   ],
   "source": [
    "%%writefile student_dashboard.py\n",
    "import streamlit as st\n",
    "import pandas as pd\n",
    "import numpy as np\n",
    "import altair as alt\n",
    "import plotly.express as px\n",
    "import seaborn as sns\n",
    "import matplotlib.pyplot as plt\n",
    "import plotly.graph_objects as go\n",
    "\n",
    "st.set_page_config(\n",
    "    page_title=\"Student Performance Dashboard\",\n",
    "    page_icon=\"🔎\",\n",
    "    layout=\"wide\",\n",
    "    initial_sidebar_state=\"expanded\")\n",
    "\n",
    "\n",
    "df=pd.read_csv('Combined_data.csv')\n",
    "st.title('📊 Student Performance Dashboard')\n",
    "\n",
    "st.sidebar.title('Filters')\n",
    "\n",
    "pass_fail= st.sidebar.multiselect('Select Option', df['pass_fail'].unique(), default=df['pass_fail'].unique())\n",
    "topic_difficulty= st.sidebar.multiselect('Select Option', df['topic_difficulty'].unique(), default=df['topic_difficulty'].unique())\n",
    "dropout= st.sidebar.multiselect('Select Option', df['dropout'].unique(), default=df['dropout'].unique())\n",
    "# student = st.sidebar.multiselect('Select Option', df['Student_ID'].unique(), default=df['Student_ID'].unique())\n",
    "\n",
    "filtered_df = df[(df['pass_fail'].isin(pass_fail)) & (df['topic_difficulty'].isin(topic_difficulty)) & (df['dropout'].isin(dropout))] \n",
    "\n",
    "# Metrices\n",
    "col1, col2, col3= st.columns(3)\n",
    "col1.metric(\"Total Failures\", f\"{df['previous_failures'].sum()}\")\n",
    "col2.metric(\"Average Attendance Rate\", f\"{df['attendance_rate'].mean():.0f}\")\n",
    "col3.metric(\"Records\", len(filtered_df))\n",
    "\n",
    "col1, col2, col3 = st.columns(3)\n",
    "\n",
    "with col1:\n",
    "    fig_line = px.line(filtered_df, x='Past_Grades', y='pass_fail', color='pass_fail', title='Pass or Fail')\n",
    "    st.plotly_chart(fig_line, use_container_width=True)\n",
    "\n",
    "with col2:\n",
    "    score = filtered_df.groupby('topic_difficulty')['Past_Grades'].sum().reset_index()\n",
    "    fig_bar = px.bar(score, x='topic_difficulty', y='Past_Grades', title='Topic difficulty by Past Grades')\n",
    "    st.plotly_chart(fig_bar, use_container_width=True)\n",
    "\n",
    "with col3:\n",
    "    counts = filtered_df['pass_fail'].value_counts()\n",
    "    fig_pie= px.pie(counts,labels=counts.index, values=counts.values,title='Marks Distribution')\n",
    "    st.plotly_chart(fig_pie, use_container_width=True)\n",
    "\n",
    "\n",
    "col1, col2 = st.columns(2)\n",
    "\n",
    "with col1:\n",
    "    numeric_df = filtered_df.select_dtypes(include=[np.number])\n",
    "    fig_heat=px.imshow(numeric_df.corr(), title='Correlation Heatmap')\n",
    "    st.plotly_chart(fig_heat, use_container_width=True)\n",
    "\n",
    "with col2:\n",
    "    fig = px.bar(filtered_df, x = \"attendance_rate\", y = \"Past_Grades\",\n",
    "             color = \"pass_fail\", title = \"Long-Form Input\")\n",
    "    st.plotly_chart(fig, use_container_width=True)\n",
    "\n",
    "col1, col2 =st.columns(2)\n",
    "\n",
    "with col1:\n",
    "    fig = go.Figure(go.Indicator(\n",
    "    mode = \"gauge+number\",\n",
    "    value = 1934,\n",
    "    title = {'text': \"dropout\"},\n",
    "    domain = {'x': [0, 1], 'y': [0, 1]}\n",
    "    ))\n",
    "    st.plotly_chart(fig, use_container_width=True)\n",
    "\n",
    "with col2:\n",
    "    # long_df = px.filtered_df()\n",
    "    fig = px.bar(filtered_df, x=\"dropout\", y=\"previous_failures\", color=\"dropout\", title=\"Dropout by previous failures\")\n",
    "    st.plotly_chart(fig, use_container_width=True)\n",
    "\n",
    "\n",
    "\n",
    "\n",
    "\n",
    "st.subheader(\"Filtered Data\")\n",
    "st.dataframe(filtered_df)\n"
   ]
  },
  {
   "cell_type": "code",
   "execution_count": 4,
   "id": "768e3d24",
   "metadata": {},
   "outputs": [
    {
     "name": "stdout",
     "output_type": "stream",
     "text": [
      "^C\n"
     ]
    }
   ],
   "source": [
    "!streamlit run student_dashboard.py"
   ]
  }
 ],
 "metadata": {
  "kernelspec": {
   "display_name": ".venv",
   "language": "python",
   "name": "python3"
  },
  "language_info": {
   "codemirror_mode": {
    "name": "ipython",
    "version": 3
   },
   "file_extension": ".py",
   "mimetype": "text/x-python",
   "name": "python",
   "nbconvert_exporter": "python",
   "pygments_lexer": "ipython3",
   "version": "3.12.9"
  }
 },
 "nbformat": 4,
 "nbformat_minor": 5
}
