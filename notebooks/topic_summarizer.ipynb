{
 "cells": [
  {
   "cell_type": "code",
   "execution_count": 1,
   "id": "a45c60ba",
   "metadata": {},
   "outputs": [
    {
     "name": "stderr",
     "output_type": "stream",
     "text": [
      "c:\\Users\\simra\\OneDrive\\Documents\\Final_Project\\.venv\\Lib\\site-packages\\tqdm\\auto.py:21: TqdmWarning: IProgress not found. Please update jupyter and ipywidgets. See https://ipywidgets.readthedocs.io/en/stable/user_install.html\n",
      "  from .autonotebook import tqdm as notebook_tqdm\n"
     ]
    }
   ],
   "source": [
    "import pandas as pd\n",
    "import numpy as np\n",
    "from transformers import T5Tokenizer, T5ForConditionalGeneration"
   ]
  },
  {
   "cell_type": "code",
   "execution_count": 2,
   "id": "1154a4cd",
   "metadata": {},
   "outputs": [
    {
     "name": "stderr",
     "output_type": "stream",
     "text": [
      "You are using the default legacy behaviour of the <class 'transformers.models.t5.tokenization_t5.T5Tokenizer'>. This is expected, and simply means that the `legacy` (previous) behavior will be used so nothing changes for you. If you want to use the new behaviour, set `legacy=False`. This should only be set if you understand what it means, and thoroughly read the reason why this was added as explained in https://github.com/huggingface/transformers/pull/24565\n"
     ]
    },
    {
     "name": "stdout",
     "output_type": "stream",
     "text": [
      "<pad> binary numbers are composed of only two digits: 0 and 1. They are fundamental in computer science because digital electronic circuits are built upon this system. the binary numbers are composed of only two digits: 0 and 1.</s>\n"
     ]
    }
   ],
   "source": [
    " \n",
    "model_name = \"t5-small\"\n",
    "tokenizer = T5Tokenizer.from_pretrained(model_name)\n",
    "model = T5ForConditionalGeneration.from_pretrained(model_name)\n",
    "\n",
    "def summarize(text):\n",
    "    inputs = tokenizer.encode(\"summarize: \" + text, return_tensors=\"pt\", max_length=512, truncation=True)\n",
    "    outputs = model.generate(inputs, max_length=150, min_length=40, length_penalty=2.0, num_beams=4, early_stopping=True)\n",
    "    return tokenizer.decode(outputs[0])\n",
    "\n",
    "# Example usage:\n",
    "text = \"Binary numbers are composed of only two digits: 0 and 1. They are fundamental in computer science because digital electronic circuits are built upon this system.\"\n",
    "summary = summarize(text)\n",
    "print(summary)"
   ]
  },
  {
   "cell_type": "code",
   "execution_count": 9,
   "id": "dda5f553",
   "metadata": {},
   "outputs": [
    {
     "name": "stdout",
     "output_type": "stream",
     "text": [
      "BLEU Score: 100.00\n",
      "ROUGE-1 F1 Score: 1.00\n",
      "ROUGE-L F1 Score: 1.00\n"
     ]
    }
   ],
   "source": [
    "# Importing evaluate library\n",
    "import evaluate\n",
    "\n",
    "# Load the BLEU and ROUGE metrics\n",
    "bleu_metric = evaluate.load(\"bleu\")\n",
    "rouge_metric = evaluate.load(\"rouge\")\n",
    "\n",
    "# Example sentences (non-tokenized)\n",
    "reference = [\"Binary numbers are composed of only two digits: 0 and 1. They are fundamental in computer science because digital electronic circuits are built upon this system.\"]\n",
    "candidate = [\"Binary numbers are composed of only two digits: 0 and 1. They are fundamental in computer science because digital electronic circuits are built upon this system.\"]\n",
    "\n",
    "# BLEU expects plain text inputs\n",
    "bleu_results = bleu_metric.compute(predictions=candidate, references=reference)\n",
    "print(f\"BLEU Score: {bleu_results['bleu'] * 100:.2f}\")\n",
    "\n",
    "# ROUGE expects plain text inputs\n",
    "rouge_results = rouge_metric.compute(predictions=candidate, references=reference)\n",
    "\n",
    "# Access ROUGE scores (no need for indexing into the result)\n",
    "print(f\"ROUGE-1 F1 Score: {rouge_results['rouge1']:.2f}\")\n",
    "print(f\"ROUGE-L F1 Score: {rouge_results['rougeL']:.2f}\")"
   ]
  },
  {
   "cell_type": "code",
   "execution_count": null,
   "id": "ea01913f",
   "metadata": {},
   "outputs": [
    {
     "name": "stdout",
     "output_type": "stream",
     "text": [
      "Text 1 - Polarity: 0.0, Subjectivity: 0.2\n",
      "Text 2 - Polarity: 0.125, Subjectivity: 0.16666666666666666\n"
     ]
    }
   ],
   "source": [
    "# Calculating sentiment analysis scores\n",
    "from textblob import TextBlob\n",
    "\n",
    "# Example text\n",
    "text_1 =  \"Solving quadratic equations often involves factoring, completing the square, or using the quadratic formula. The formula, $x = \\\\frac{-b \\\\pm \\\\sqrt{b^2 - 4ac}}{2a}$, is particularly useful for complex cases.\"\n",
    "text_2 = \"Newton's laws of motion describe the relationship between a body and the forces acting upon it, and its motion in response to those forces. The first law is often called the law of inertia.\"\n",
    "\n",
    "# Analyze sentiment for text_1\n",
    "blob_1 = TextBlob(text_1)\n",
    "polarity_1 = blob_1.sentiment.polarity\n",
    "subjectivity_1 = blob_1.sentiment.subjectivity\n",
    "\n",
    "print(f\"Text 1 - Polarity: {polarity_1}, Subjectivity: {subjectivity_1}\")\n",
    "\n",
    "# Analyze sentiment for text_2\n",
    "blob_2 = TextBlob(text_2)\n",
    "polarity_2 = blob_2.sentiment.polarity\n",
    "subjectivity_2 = blob_2.sentiment.subjectivity\n",
    "\n",
    "print(f\"Text 2 - Polarity: {polarity_2}, Subjectivity: {subjectivity_2}\")"
   ]
  }
 ],
 "metadata": {
  "kernelspec": {
   "display_name": ".venv",
   "language": "python",
   "name": "python3"
  },
  "language_info": {
   "codemirror_mode": {
    "name": "ipython",
    "version": 3
   },
   "file_extension": ".py",
   "mimetype": "text/x-python",
   "name": "python",
   "nbconvert_exporter": "python",
   "pygments_lexer": "ipython3",
   "version": "3.12.9"
  }
 },
 "nbformat": 4,
 "nbformat_minor": 5
}
